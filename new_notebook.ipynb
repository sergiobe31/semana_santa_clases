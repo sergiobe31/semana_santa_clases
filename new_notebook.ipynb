{
 "cells": [
  {
   "cell_type": "code",
   "execution_count": 1,
   "id": "c297d28b",
   "metadata": {},
   "outputs": [],
   "source": [
    "import pandas as pd\n",
    "import numpy as np"
   ]
  },
  {
   "cell_type": "code",
   "execution_count": null,
   "id": "e096c18b",
   "metadata": {},
   "outputs": [],
   "source": [
    "print (\"Me creo científico de datos! y este commit lo subo utilizando comandoss!\")"
   ]
  },
  {
   "cell_type": "code",
   "execution_count": 9,
   "id": "faab4bd4",
   "metadata": {},
   "outputs": [],
   "source": [
    "def sumar(a, b):\n",
    "    return a + b"
   ]
  },
  {
   "cell_type": "code",
   "execution_count": 10,
   "id": "30546e37",
   "metadata": {},
   "outputs": [],
   "source": [
    "def restar(a, b):\n",
    "    return a - b"
   ]
  },
  {
   "cell_type": "code",
   "execution_count": 11,
   "id": "f5ea09ba",
   "metadata": {},
   "outputs": [],
   "source": [
    "def dividir(a, b):\n",
    "    return a / b\n",
    "\n",
    "def multiplicar(a, b):\n",
    "    return a * b"
   ]
  }
 ],
 "metadata": {
  "kernelspec": {
   "display_name": "base",
   "language": "python",
   "name": "python3"
  },
  "language_info": {
   "codemirror_mode": {
    "name": "ipython",
    "version": 3
   },
   "file_extension": ".py",
   "mimetype": "text/x-python",
   "name": "python",
   "nbconvert_exporter": "python",
   "pygments_lexer": "ipython3",
   "version": "3.12.4"
  }
 },
 "nbformat": 4,
 "nbformat_minor": 5
}
